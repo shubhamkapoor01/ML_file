{
 "cells": [
  {
   "cell_type": "code",
   "execution_count": 17,
   "id": "b2ebb64c",
   "metadata": {},
   "outputs": [],
   "source": [
    "import pandas as pd\n",
    "import numpy as np\n",
    "import matplotlib.pyplot as plt\n",
    "from keras.datasets import mnist\n",
    "import numpy as np"
   ]
  },
  {
   "cell_type": "code",
   "execution_count": 18,
   "id": "ca8028fb",
   "metadata": {},
   "outputs": [],
   "source": [
    "(xtrain, ytrain), (xtest, ytest) = mnist.load_data()"
   ]
  },
  {
   "cell_type": "code",
   "execution_count": 19,
   "id": "6faf6d0e",
   "metadata": {},
   "outputs": [
    {
     "data": {
      "text/plain": [
       "((60000, 28, 28, 1), (10000, 28, 28, 1), (60000,), (10000,))"
      ]
     },
     "execution_count": 19,
     "metadata": {},
     "output_type": "execute_result"
    }
   ],
   "source": [
    "#reshaping data as needed by the model\n",
    "xtrain=np.reshape(xtrain,(-1,28,28,1))\n",
    "xtest=np.reshape(xtest,(-1,28,28,1))\n",
    "xtrain.shape,xtest.shape,ytrain.shape,ytest.shape"
   ]
  },
  {
   "cell_type": "code",
   "execution_count": 20,
   "id": "ef4f9092",
   "metadata": {},
   "outputs": [],
   "source": [
    "#normalising\n",
    "xtrain=xtrain/255\n",
    "xtest=xtest/255"
   ]
  },
  {
   "cell_type": "code",
   "execution_count": 21,
   "id": "957b4f84",
   "metadata": {},
   "outputs": [],
   "source": [
    "#implementing one hot encoding\n",
    "from keras.utils.np_utils import to_categorical\n",
    "y_train = to_categorical(ytrain, num_classes=10)\n",
    "y_test = to_categorical(ytest, num_classes=10)"
   ]
  },
  {
   "cell_type": "code",
   "execution_count": 22,
   "id": "a0aeacbb",
   "metadata": {},
   "outputs": [],
   "source": [
    "#importing the model\n",
    "from keras.models import Sequential"
   ]
  },
  {
   "cell_type": "code",
   "execution_count": 23,
   "id": "4c9a168c",
   "metadata": {},
   "outputs": [],
   "source": [
    "#creating model object\n",
    "model=Sequential()"
   ]
  },
  {
   "cell_type": "code",
   "execution_count": 24,
   "id": "6259c7d6",
   "metadata": {},
   "outputs": [],
   "source": [
    "#importing layers\n",
    "from keras.layers import Conv2D,MaxPooling2D,Flatten,Dense,Dropout"
   ]
  },
  {
   "cell_type": "code",
   "execution_count": 25,
   "id": "87b07eeb",
   "metadata": {},
   "outputs": [],
   "source": [
    "#adding layers and forming the model\n",
    "model.add(Conv2D(32,kernel_size=5,strides=1,padding=\"Same\",activation=\"relu\",input_shape=(28,28,1)))\n",
    "model.add(MaxPooling2D(padding=\"same\"))\n",
    "\n",
    "model.add(Conv2D(64,kernel_size=5,strides=1,padding=\"same\",activation=\"relu\"))\n",
    "model.add(MaxPooling2D(padding=\"same\"))\n",
    "\n",
    "model.add(Flatten())\n",
    "\n",
    "model.add(Dense(1024,activation=\"relu\"))\n",
    "model.add(Dropout(0.2))\n",
    "model.add(Dense(10,activation=\"sigmoid\"))"
   ]
  },
  {
   "cell_type": "code",
   "execution_count": 26,
   "id": "d00f12da",
   "metadata": {},
   "outputs": [],
   "source": [
    "#compiling\n",
    "model.compile(optimizer=\"adam\",loss=\"categorical_crossentropy\",metrics=[\"accuracy\"])"
   ]
  },
  {
   "cell_type": "code",
   "execution_count": 27,
   "id": "61fc6297",
   "metadata": {},
   "outputs": [
    {
     "name": "stdout",
     "output_type": "stream",
     "text": [
      "Epoch 1/10\n",
      "600/600 [==============================] - 45s 74ms/step - loss: 0.1278 - accuracy: 0.9602 - val_loss: 0.0481 - val_accuracy: 0.9850\n",
      "Epoch 2/10\n",
      "600/600 [==============================] - 45s 76ms/step - loss: 0.0394 - accuracy: 0.9881 - val_loss: 0.0308 - val_accuracy: 0.9897\n",
      "Epoch 3/10\n",
      "600/600 [==============================] - 46s 76ms/step - loss: 0.0270 - accuracy: 0.9915 - val_loss: 0.0295 - val_accuracy: 0.9905\n",
      "Epoch 4/10\n",
      "600/600 [==============================] - 47s 78ms/step - loss: 0.0202 - accuracy: 0.9936 - val_loss: 0.0200 - val_accuracy: 0.9929\n",
      "Epoch 5/10\n",
      "600/600 [==============================] - 45s 76ms/step - loss: 0.0150 - accuracy: 0.9952 - val_loss: 0.0247 - val_accuracy: 0.9926\n",
      "Epoch 6/10\n",
      "600/600 [==============================] - 43s 71ms/step - loss: 0.0123 - accuracy: 0.9960 - val_loss: 0.0266 - val_accuracy: 0.9926\n",
      "Epoch 7/10\n",
      "600/600 [==============================] - 43s 72ms/step - loss: 0.0097 - accuracy: 0.9967 - val_loss: 0.0308 - val_accuracy: 0.9921\n",
      "Epoch 8/10\n",
      "600/600 [==============================] - 44s 73ms/step - loss: 0.0100 - accuracy: 0.9966 - val_loss: 0.0266 - val_accuracy: 0.9918\n",
      "Epoch 9/10\n",
      "600/600 [==============================] - 46s 77ms/step - loss: 0.0074 - accuracy: 0.9977 - val_loss: 0.0319 - val_accuracy: 0.9908\n",
      "Epoch 10/10\n",
      "600/600 [==============================] - 44s 74ms/step - loss: 0.0075 - accuracy: 0.9973 - val_loss: 0.0387 - val_accuracy: 0.9917\n"
     ]
    },
    {
     "data": {
      "text/plain": [
       "<keras.callbacks.History at 0x7fc37ac93820>"
      ]
     },
     "execution_count": 27,
     "metadata": {},
     "output_type": "execute_result"
    }
   ],
   "source": [
    "#training the model\n",
    "model.fit(xtrain,y_train,batch_size=100,epochs=10,validation_data=(xtest,y_test))"
   ]
  },
  {
   "cell_type": "code",
   "execution_count": 28,
   "id": "3bd9685e",
   "metadata": {},
   "outputs": [
    {
     "name": "stdout",
     "output_type": "stream",
     "text": [
      "1875/1875 [==============================] - 13s 7ms/step - loss: 0.0049 - accuracy: 0.9984\n",
      "313/313 [==============================] - 2s 7ms/step - loss: 0.0387 - accuracy: 0.9917\n"
     ]
    },
    {
     "data": {
      "text/plain": [
       "([0.004944016225636005, 0.9983500242233276],\n",
       " [0.03871272876858711, 0.9916999936103821])"
      ]
     },
     "execution_count": 28,
     "metadata": {},
     "output_type": "execute_result"
    }
   ],
   "source": [
    "#model train and test scores\n",
    "model.evaluate(xtrain,y_train)\n",
    "model.evaluate(xtest,y_test)"
   ]
  },
  {
   "cell_type": "code",
   "execution_count": null,
   "id": "4b79ac16",
   "metadata": {},
   "outputs": [],
   "source": []
  }
 ],
 "metadata": {
  "kernelspec": {
   "display_name": "Python 3",
   "language": "python",
   "name": "python3"
  },
  "language_info": {
   "codemirror_mode": {
    "name": "ipython",
    "version": 3
   },
   "file_extension": ".py",
   "mimetype": "text/x-python",
   "name": "python",
   "nbconvert_exporter": "python",
   "pygments_lexer": "ipython3",
   "version": "3.8.8"
  }
 },
 "nbformat": 4,
 "nbformat_minor": 5
}
